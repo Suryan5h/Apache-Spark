{
 "cells": [
  {
   "cell_type": "code",
   "execution_count": 110,
   "id": "cfe3e82c",
   "metadata": {},
   "outputs": [],
   "source": [
    "import os\n",
    "import sys\n",
    "os.environ[\"PYSPARK_PYTHON\"]=\"/home/ec2-user/spark-2.4.4-bin-hadoop2.7/python\"\n",
    "os.environ[\"JAVA_HOME\"] = \"/usr/java/jdk1.8.0_161/jre\"\n",
    "os.environ[\"SPARK_HOME\"] = \"/home/ec2-user/spark-2.4.4-bin-hadoop2.7\"\n",
    "os.environ[\"PYLIB\"] = os.environ[\"SPARK_HOME\"] + \"/python/lib\"\n",
    "sys.path.insert(0, os.environ[\"PYLIB\"] + \"/py4j-0.10.7-src.zip\")\n",
    "sys.path.insert(0, os.environ[\"PYLIB\"] + \"/pyspark.zip\")"
   ]
  },
  {
   "cell_type": "code",
   "execution_count": 111,
   "id": "cbb9cfdd",
   "metadata": {},
   "outputs": [],
   "source": [
    "from pyspark.sql import SparkSession\n",
    "spark = SparkSession.builder.appName(\"SparkSQL_Learn\").getOrCreate()"
   ]
  },
  {
   "cell_type": "code",
   "execution_count": 112,
   "id": "79059645",
   "metadata": {},
   "outputs": [
    {
     "name": "stderr",
     "output_type": "stream",
     "text": [
      "                                                                                \r"
     ]
    }
   ],
   "source": [
    "ball = spark.read.csv(\"Ball_By_Ball.csv\", inferSchema = True, header = True)"
   ]
  },
  {
   "cell_type": "code",
   "execution_count": 113,
   "id": "712684d9",
   "metadata": {},
   "outputs": [
    {
     "name": "stdout",
     "output_type": "stream",
     "text": [
      "+--------+-------+-------+----------+------------+------------+------------------------+----------+-----------+----------+-----+-------+----+-------+-------+-------------+--------------+------+------+-------+---+------------+-------+-----------------+----------+----------------+-------------+----------+------+-------+-----------+------+----------+--------+----------------+---------+-------------------+-------------+----------------+----------+---------------+---------+------------------+--------------+--------------+------------+-------------+-----------+\n",
      "|MatcH_id|Over_id|Ball_id|Innings_No|Team_Batting|Team_Bowling|Striker_Batting_Position|Extra_Type|Runs_Scored|Extra_runs|Wides|Legbyes|Byes|Noballs|Penalty|Bowler_Extras|      Out_type|Caught|Bowled|Run_out|LBW|Retired_hurt|Stumped|caught_and_bowled|hit_wicket|ObstructingFeild|Bowler_Wicket|Match_Date|Season|Striker|Non_Striker|Bowler|Player_Out|Fielders|Striker_match_SK|StrikerSK|NonStriker_match_SK|NONStriker_SK|Fielder_match_SK|Fielder_SK|Bowler_match_SK|BOWLER_SK|PlayerOut_match_SK|BattingTeam_SK|BowlingTeam_SK|Keeper_Catch|Player_out_sk|MatchDateSK|\n",
      "+--------+-------+-------+----------+------------+------------+------------------------+----------+-----------+----------+-----+-------+----+-------+-------+-------------+--------------+------+------+-------+---+------------+-------+-----------------+----------+----------------+-------------+----------+------+-------+-----------+------+----------+--------+----------------+---------+-------------------+-------------+----------------+----------+---------------+---------+------------------+--------------+--------------+------------+-------------+-----------+\n",
      "|  598028|     15|      6|         1|           5|           2|                       6| No Extras|          4|         0|    0|      0|   0|      0|      0|            0|Not Applicable|     0|     0|      0|  0|           0|      0|                0|         0|               0|            0| 4/20/2013|  2013|    277|        104|    83|      null|    null|           20336|      276|              20333|          103|              -1|        -1|          20343|       82|                -1|             4|             1|           0|            0|   20130420|\n",
      "|  598028|     14|      1|         1|           5|           2|                       5| No Extras|          1|         0|    0|      0|   0|      0|      0|            0|Not Applicable|     0|     0|      0|  0|           0|      0|                0|         0|               0|            0| 4/20/2013|  2013|    104|          6|   346|      null|    null|           20333|      103|              20328|            5|              -1|        -1|          20348|      345|                -1|             4|             1|           0|            0|   20130420|\n",
      "|  598028|     14|      2|         1|           5|           2|                       3| No Extras|          1|         0|    0|      0|   0|      0|      0|            0|Not Applicable|     0|     0|      0|  0|           0|      0|                0|         0|               0|            0| 4/20/2013|  2013|      6|        104|   346|      null|    null|           20328|        5|              20333|          103|              -1|        -1|          20348|      345|                -1|             4|             1|           0|            0|   20130420|\n",
      "|  598028|     14|      3|         1|           5|           2|                       5| No Extras|          1|         0|    0|      0|   0|      0|      0|            0|Not Applicable|     0|     0|      0|  0|           0|      0|                0|         0|               0|            0| 4/20/2013|  2013|    104|          6|   346|      null|    null|           20333|      103|              20328|            5|              -1|        -1|          20348|      345|                -1|             4|             1|           0|            0|   20130420|\n",
      "|  598028|     14|      4|         1|           5|           2|                       3| No Extras|          0|         0|    0|      0|   0|      0|      0|            0|Not Applicable|     0|     0|      0|  0|           0|      0|                0|         0|               0|            0| 4/20/2013|  2013|      6|        104|   346|      null|    null|           20328|        5|              20333|          103|              -1|        -1|          20348|      345|                -1|             4|             1|           0|            0|   20130420|\n",
      "+--------+-------+-------+----------+------------+------------+------------------------+----------+-----------+----------+-----+-------+----+-------+-------+-------------+--------------+------+------+-------+---+------------+-------+-----------------+----------+----------------+-------------+----------+------+-------+-----------+------+----------+--------+----------------+---------+-------------------+-------------+----------------+----------+---------------+---------+------------------+--------------+--------------+------------+-------------+-----------+\n",
      "only showing top 5 rows\n",
      "\n"
     ]
    }
   ],
   "source": [
    "ball.show(5)"
   ]
  },
  {
   "cell_type": "code",
   "execution_count": 114,
   "id": "5bd366a6",
   "metadata": {},
   "outputs": [
    {
     "name": "stdout",
     "output_type": "stream",
     "text": [
      "+--------+--------+--------------------+--------------------+----------+-----------+--------------------+----------+------------+--------------------+--------------------+---------+--------+------------+-----------+----------+----------+\n",
      "|Match_SK|match_id|               Team1|               Team2|match_date|Season_Year|          Venue_Name| City_Name|Country_Name|         Toss_Winner|        match_winner|Toss_Name|Win_Type|Outcome_Type|  ManOfMach|Win_Margin|Country_id|\n",
      "+--------+--------+--------------------+--------------------+----------+-----------+--------------------+----------+------------+--------------------+--------------------+---------+--------+------------+-----------+----------+----------+\n",
      "|       0|  335987|Royal Challengers...|Kolkata Knight Ri...| 4/18/2008|       2008|M Chinnaswamy Sta...| Bangalore|       India|Royal Challengers...|Kolkata Knight Ri...|    field|    runs|      Result|BB McCullum|       140|         1|\n",
      "|       1|  335988|     Kings XI Punjab| Chennai Super Kings| 4/19/2008|       2008|Punjab Cricket As...|Chandigarh|       India| Chennai Super Kings| Chennai Super Kings|      bat|    runs|      Result| MEK Hussey|        33|         1|\n",
      "|       2|  335989|    Delhi Daredevils|    Rajasthan Royals| 4/19/2008|       2008|    Feroz Shah Kotla|     Delhi|       India|    Rajasthan Royals|    Delhi Daredevils|      bat| wickets|      Result|MF Maharoof|         9|         1|\n",
      "|       3|  335990|      Mumbai Indians|Royal Challengers...| 4/20/2008|       2008|    Wankhede Stadium|    Mumbai|       India|      Mumbai Indians|Royal Challengers...|      bat| wickets|      Result| MV Boucher|         5|         1|\n",
      "|       4|  335991|Kolkata Knight Ri...|     Deccan Chargers| 4/20/2008|       2008|        Eden Gardens|   Kolkata|       India|     Deccan Chargers|Kolkata Knight Ri...|      bat| wickets|      Result|  DJ Hussey|         5|         1|\n",
      "+--------+--------+--------------------+--------------------+----------+-----------+--------------------+----------+------------+--------------------+--------------------+---------+--------+------------+-----------+----------+----------+\n",
      "only showing top 5 rows\n",
      "\n"
     ]
    }
   ],
   "source": [
    "match = spark.read.csv(\"Match.csv\", inferSchema = True, header = True)\n",
    "match.show(5)"
   ]
  },
  {
   "cell_type": "code",
   "execution_count": 115,
   "id": "0e14cf3c",
   "metadata": {},
   "outputs": [
    {
     "name": "stdout",
     "output_type": "stream",
     "text": [
      "+---------+---------+---------------+----------+--------------+------------------+------------+\n",
      "|PLAYER_SK|Player_Id|    Player_Name|       DOB|  Batting_hand|     Bowling_skill|Country_Name|\n",
      "+---------+---------+---------------+----------+--------------+------------------+------------+\n",
      "|        0|        1|     SC Ganguly|  7/8/1972| Left-hand bat|  Right-arm medium|       India|\n",
      "|        1|        2|    BB McCullum| 9/27/1981|Right-hand bat|  Right-arm medium| New Zealand|\n",
      "|        2|        3|     RT Ponting|12/19/1974|Right-hand bat|  Right-arm medium|   Australia|\n",
      "|        3|        4|      DJ Hussey| 7/15/1977|Right-hand bat|Right-arm offbreak|   Australia|\n",
      "|        4|        5|Mohammad Hafeez|10/17/1980|Right-hand bat|Right-arm offbreak|    Pakistan|\n",
      "+---------+---------+---------------+----------+--------------+------------------+------------+\n",
      "only showing top 5 rows\n",
      "\n"
     ]
    }
   ],
   "source": [
    "player = spark.read.csv(\"Player.csv\", inferSchema = True, header = True)\n",
    "player.show(5)"
   ]
  },
  {
   "cell_type": "code",
   "execution_count": 116,
   "id": "671f3bb4",
   "metadata": {},
   "outputs": [
    {
     "name": "stdout",
     "output_type": "stream",
     "text": [
      "+---------------+---------------+--------+---------+-----------+----------+--------------+--------------------+------------+---------+--------------------+--------------------+-----------+----------------+---------------+------------------+--------------+--------------+--------------+---------------+-------------+--------------+\n",
      "|Player_match_SK|PlayerMatch_key|Match_Id|Player_Id|Player_Name|       DOB|  Batting_hand|       Bowling_skill|Country_Name|Role_Desc|         Player_team|        Opposit_Team|Season_year|is_manofThematch|Age_As_on_match|IsPlayers_Team_won|Batting_Status|Bowling_Status|Player_Captain|Opposit_captain|Player_keeper|Opposit_keeper|\n",
      "+---------------+---------------+--------+---------+-----------+----------+--------------+--------------------+------------+---------+--------------------+--------------------+-----------+----------------+---------------+------------------+--------------+--------------+--------------+---------------+-------------+--------------+\n",
      "|             -1|           0E+6|      -1|       -1|        N/A|      null|          null|                null|        null|     null|                null|                null|       null|            null|           null|              null|          null|          null|          null|           null|         null|          null|\n",
      "|          12694|     3.3599E+10|  335987|        6|   R Dravid| 1/11/1973|Right-hand bat|  Right-arm offbreak|       India|  Captain|Royal Challengers...|Kolkata Knight Ri...|       2008|               0|             35|                 0|          null|          null|      R Dravid|     SC Ganguly|   MV Boucher|       WP Saha|\n",
      "|          12695|     3.3599E+10|  335987|        7|   W Jaffer| 2/16/1978|Right-hand bat|  Right-arm offbreak|       India|   Player|Royal Challengers...|Kolkata Knight Ri...|       2008|               0|             30|                 0|          null|          null|      R Dravid|     SC Ganguly|   MV Boucher|       WP Saha|\n",
      "|          12696|     3.3599E+10|  335987|        8|    V Kohli| 11/5/1988|Right-hand bat|    Right-arm medium|       India|   Player|Royal Challengers...|Kolkata Knight Ri...|       2008|               0|             20|                 0|          null|          null|      R Dravid|     SC Ganguly|   MV Boucher|       WP Saha|\n",
      "|          12697|     3.3599E+10|  335987|        9|  JH Kallis|10/16/1975|Right-hand bat|Right-arm fast-me...|South Africa|   Player|Royal Challengers...|Kolkata Knight Ri...|       2008|               0|             33|                 0|          null|          null|      R Dravid|     SC Ganguly|   MV Boucher|       WP Saha|\n",
      "+---------------+---------------+--------+---------+-----------+----------+--------------+--------------------+------------+---------+--------------------+--------------------+-----------+----------------+---------------+------------------+--------------+--------------+--------------+---------------+-------------+--------------+\n",
      "only showing top 5 rows\n",
      "\n"
     ]
    }
   ],
   "source": [
    "player_match = spark.read.csv(\"Player_match.csv\", inferSchema = True, header = True)\n",
    "player_match.show(5)"
   ]
  },
  {
   "cell_type": "code",
   "execution_count": 117,
   "id": "eba945b4",
   "metadata": {},
   "outputs": [
    {
     "name": "stdout",
     "output_type": "stream",
     "text": [
      "+-------+-------+--------------------+\n",
      "|Team_SK|Team_Id|           Team_Name|\n",
      "+-------+-------+--------------------+\n",
      "|      0|      1|Kolkata Knight Ri...|\n",
      "|      1|      2|Royal Challengers...|\n",
      "|      2|      3| Chennai Super Kings|\n",
      "|      3|      4|     Kings XI Punjab|\n",
      "|      4|      5|    Rajasthan Royals|\n",
      "+-------+-------+--------------------+\n",
      "only showing top 5 rows\n",
      "\n"
     ]
    }
   ],
   "source": [
    "team = spark.read.csv(\"Team.csv\", inferSchema = True, header = True)\n",
    "team.show(5)"
   ]
  },
  {
   "cell_type": "code",
   "execution_count": 118,
   "id": "d0538b54",
   "metadata": {},
   "outputs": [
    {
     "data": {
      "text/plain": [
       "['MatcH_id',\n",
       " 'Over_id',\n",
       " 'Ball_id',\n",
       " 'Innings_No',\n",
       " 'Team_Batting',\n",
       " 'Team_Bowling',\n",
       " 'Striker_Batting_Position',\n",
       " 'Extra_Type',\n",
       " 'Runs_Scored',\n",
       " 'Extra_runs',\n",
       " 'Wides',\n",
       " 'Legbyes',\n",
       " 'Byes',\n",
       " 'Noballs',\n",
       " 'Penalty',\n",
       " 'Bowler_Extras',\n",
       " 'Out_type',\n",
       " 'Caught',\n",
       " 'Bowled',\n",
       " 'Run_out',\n",
       " 'LBW',\n",
       " 'Retired_hurt',\n",
       " 'Stumped',\n",
       " 'caught_and_bowled',\n",
       " 'hit_wicket',\n",
       " 'ObstructingFeild',\n",
       " 'Bowler_Wicket',\n",
       " 'Match_Date',\n",
       " 'Season',\n",
       " 'Striker',\n",
       " 'Non_Striker',\n",
       " 'Bowler',\n",
       " 'Player_Out',\n",
       " 'Fielders',\n",
       " 'Striker_match_SK',\n",
       " 'StrikerSK',\n",
       " 'NonStriker_match_SK',\n",
       " 'NONStriker_SK',\n",
       " 'Fielder_match_SK',\n",
       " 'Fielder_SK',\n",
       " 'Bowler_match_SK',\n",
       " 'BOWLER_SK',\n",
       " 'PlayerOut_match_SK',\n",
       " 'BattingTeam_SK',\n",
       " 'BowlingTeam_SK',\n",
       " 'Keeper_Catch',\n",
       " 'Player_out_sk',\n",
       " 'MatchDateSK']"
      ]
     },
     "execution_count": 118,
     "metadata": {},
     "output_type": "execute_result"
    }
   ],
   "source": [
    "ball.columns"
   ]
  },
  {
   "cell_type": "code",
   "execution_count": 119,
   "id": "a12f670a",
   "metadata": {},
   "outputs": [
    {
     "data": {
      "text/plain": [
       "['Match_SK',\n",
       " 'match_id',\n",
       " 'Team1',\n",
       " 'Team2',\n",
       " 'match_date',\n",
       " 'Season_Year',\n",
       " 'Venue_Name',\n",
       " 'City_Name',\n",
       " 'Country_Name',\n",
       " 'Toss_Winner',\n",
       " 'match_winner',\n",
       " 'Toss_Name',\n",
       " 'Win_Type',\n",
       " 'Outcome_Type',\n",
       " 'ManOfMach',\n",
       " 'Win_Margin',\n",
       " 'Country_id']"
      ]
     },
     "execution_count": 119,
     "metadata": {},
     "output_type": "execute_result"
    }
   ],
   "source": [
    "match.columns"
   ]
  },
  {
   "cell_type": "code",
   "execution_count": 120,
   "id": "9f571764",
   "metadata": {},
   "outputs": [
    {
     "name": "stderr",
     "output_type": "stream",
     "text": [
      "[Stage 146:=============================================>       (172 + 1) / 200]"
     ]
    },
    {
     "name": "stdout",
     "output_type": "stream",
     "text": [
      "+---------+-----+\n",
      "|ManOfMach|Count|\n",
      "+---------+-----+\n",
      "| CH Gayle|   18|\n",
      "+---------+-----+\n",
      "\n"
     ]
    },
    {
     "name": "stderr",
     "output_type": "stream",
     "text": [
      "                                                                                \r"
     ]
    }
   ],
   "source": [
    "match.createOrReplaceTempView('match_tmp')\n",
    "spark.sql(\"select ManOfMach,count(*) as Count from match_tmp group by ManOfMach order by Count desc limit 1\").show()"
   ]
  },
  {
   "cell_type": "code",
   "execution_count": 121,
   "id": "1eb25152",
   "metadata": {},
   "outputs": [
    {
     "name": "stderr",
     "output_type": "stream",
     "text": [
      "[Stage 149:======================================>              (144 + 1) / 200]"
     ]
    },
    {
     "name": "stdout",
     "output_type": "stream",
     "text": [
      "+--------------+-----+\n",
      "|     ManOfMach|count|\n",
      "+--------------+-----+\n",
      "|      CH Gayle|   18|\n",
      "|     YK Pathan|   16|\n",
      "|AB de Villiers|   15|\n",
      "|     DA Warner|   15|\n",
      "|     RG Sharma|   14|\n",
      "|      SK Raina|   14|\n",
      "|     G Gambhir|   13|\n",
      "|      MS Dhoni|   13|\n",
      "|    MEK Hussey|   12|\n",
      "|     AM Rahane|   12|\n",
      "|      DR Smith|   11|\n",
      "|      V Sehwag|   11|\n",
      "|       V Kohli|   11|\n",
      "|     SR Watson|   10|\n",
      "|     JH Kallis|   10|\n",
      "|      SE Marsh|    9|\n",
      "|      A Mishra|    9|\n",
      "|    KA Pollard|    9|\n",
      "|  SR Tendulkar|    8|\n",
      "|    RV Uthappa|    7|\n",
      "+--------------+-----+\n",
      "only showing top 20 rows\n",
      "\n"
     ]
    },
    {
     "name": "stderr",
     "output_type": "stream",
     "text": [
      "                                                                                \r"
     ]
    }
   ],
   "source": [
    "#Another way to find the answer\n",
    "match_subset = match.select('Match_id','ManOfMach') #Selecting useful columns\n",
    "abcd = match_subset.groupBy('ManOfMach').count()\n",
    "abcd.orderBy(abcd['count'].desc()).show()"
   ]
  },
  {
   "cell_type": "markdown",
   "id": "4e07e061",
   "metadata": {},
   "source": [
    "#2ND QUESTION"
   ]
  },
  {
   "cell_type": "code",
   "execution_count": 122,
   "id": "f5b6a9cd",
   "metadata": {},
   "outputs": [
    {
     "name": "stdout",
     "output_type": "stream",
     "text": [
      "+---------------+---------------+--------+---------+-----------+----------+--------------+--------------------+------------+---------+--------------------+--------------------+-----------+----------------+---------------+------------------+--------------+--------------+--------------+---------------+-------------+--------------+\n",
      "|Player_match_SK|PlayerMatch_key|Match_Id|Player_Id|Player_Name|       DOB|  Batting_hand|       Bowling_skill|Country_Name|Role_Desc|         Player_team|        Opposit_Team|Season_year|is_manofThematch|Age_As_on_match|IsPlayers_Team_won|Batting_Status|Bowling_Status|Player_Captain|Opposit_captain|Player_keeper|Opposit_keeper|\n",
      "+---------------+---------------+--------+---------+-----------+----------+--------------+--------------------+------------+---------+--------------------+--------------------+-----------+----------------+---------------+------------------+--------------+--------------+--------------+---------------+-------------+--------------+\n",
      "|             -1|           0E+6|      -1|       -1|        N/A|      null|          null|                null|        null|     null|                null|                null|       null|            null|           null|              null|          null|          null|          null|           null|         null|          null|\n",
      "|          12694|     3.3599E+10|  335987|        6|   R Dravid| 1/11/1973|Right-hand bat|  Right-arm offbreak|       India|  Captain|Royal Challengers...|Kolkata Knight Ri...|       2008|               0|             35|                 0|          null|          null|      R Dravid|     SC Ganguly|   MV Boucher|       WP Saha|\n",
      "|          12695|     3.3599E+10|  335987|        7|   W Jaffer| 2/16/1978|Right-hand bat|  Right-arm offbreak|       India|   Player|Royal Challengers...|Kolkata Knight Ri...|       2008|               0|             30|                 0|          null|          null|      R Dravid|     SC Ganguly|   MV Boucher|       WP Saha|\n",
      "|          12696|     3.3599E+10|  335987|        8|    V Kohli| 11/5/1988|Right-hand bat|    Right-arm medium|       India|   Player|Royal Challengers...|Kolkata Knight Ri...|       2008|               0|             20|                 0|          null|          null|      R Dravid|     SC Ganguly|   MV Boucher|       WP Saha|\n",
      "|          12697|     3.3599E+10|  335987|        9|  JH Kallis|10/16/1975|Right-hand bat|Right-arm fast-me...|South Africa|   Player|Royal Challengers...|Kolkata Knight Ri...|       2008|               0|             33|                 0|          null|          null|      R Dravid|     SC Ganguly|   MV Boucher|       WP Saha|\n",
      "+---------------+---------------+--------+---------+-----------+----------+--------------+--------------------+------------+---------+--------------------+--------------------+-----------+----------------+---------------+------------------+--------------+--------------+--------------+---------------+-------------+--------------+\n",
      "only showing top 5 rows\n",
      "\n"
     ]
    }
   ],
   "source": [
    "player_match.show(5)"
   ]
  },
  {
   "cell_type": "code",
   "execution_count": 123,
   "id": "dee8052c",
   "metadata": {},
   "outputs": [
    {
     "data": {
      "text/plain": [
       "[Row(Match_Id=392189, Player_Name='CH Gayle'),\n",
       " Row(Match_Id=392191, Player_Name='CH Gayle'),\n",
       " Row(Match_Id=392195, Player_Name='CH Gayle'),\n",
       " Row(Match_Id=392202, Player_Name='CH Gayle'),\n",
       " Row(Match_Id=392204, Player_Name='CH Gayle'),\n",
       " Row(Match_Id=392208, Player_Name='CH Gayle'),\n",
       " Row(Match_Id=392212, Player_Name='CH Gayle'),\n",
       " Row(Match_Id=419127, Player_Name='CH Gayle'),\n",
       " Row(Match_Id=419132, Player_Name='CH Gayle'),\n",
       " Row(Match_Id=419136, Player_Name='CH Gayle'),\n",
       " Row(Match_Id=419140, Player_Name='CH Gayle'),\n",
       " Row(Match_Id=419144, Player_Name='CH Gayle'),\n",
       " Row(Match_Id=419149, Player_Name='CH Gayle'),\n",
       " Row(Match_Id=419153, Player_Name='CH Gayle'),\n",
       " Row(Match_Id=419158, Player_Name='CH Gayle'),\n",
       " Row(Match_Id=419163, Player_Name='CH Gayle'),\n",
       " Row(Match_Id=501227, Player_Name='CH Gayle'),\n",
       " Row(Match_Id=501232, Player_Name='CH Gayle'),\n",
       " Row(Match_Id=501237, Player_Name='CH Gayle'),\n",
       " Row(Match_Id=501249, Player_Name='CH Gayle'),\n",
       " Row(Match_Id=501252, Player_Name='CH Gayle'),\n",
       " Row(Match_Id=501257, Player_Name='CH Gayle'),\n",
       " Row(Match_Id=501260, Player_Name='CH Gayle'),\n",
       " Row(Match_Id=501265, Player_Name='CH Gayle'),\n",
       " Row(Match_Id=501271, Player_Name='CH Gayle'),\n",
       " Row(Match_Id=501273, Player_Name='CH Gayle'),\n",
       " Row(Match_Id=501275, Player_Name='CH Gayle'),\n",
       " Row(Match_Id=501276, Player_Name='CH Gayle'),\n",
       " Row(Match_Id=548320, Player_Name='CH Gayle'),\n",
       " Row(Match_Id=548323, Player_Name='CH Gayle'),\n",
       " Row(Match_Id=548329, Player_Name='CH Gayle'),\n",
       " Row(Match_Id=548332, Player_Name='CH Gayle'),\n",
       " Row(Match_Id=548336, Player_Name='CH Gayle'),\n",
       " Row(Match_Id=548341, Player_Name='CH Gayle'),\n",
       " Row(Match_Id=548349, Player_Name='CH Gayle'),\n",
       " Row(Match_Id=548355, Player_Name='CH Gayle'),\n",
       " Row(Match_Id=548361, Player_Name='CH Gayle'),\n",
       " Row(Match_Id=548365, Player_Name='CH Gayle'),\n",
       " Row(Match_Id=548367, Player_Name='CH Gayle'),\n",
       " Row(Match_Id=548372, Player_Name='CH Gayle'),\n",
       " Row(Match_Id=548377, Player_Name='CH Gayle'),\n",
       " Row(Match_Id=548381, Player_Name='CH Gayle'),\n",
       " Row(Match_Id=598004, Player_Name='CH Gayle'),\n",
       " Row(Match_Id=598009, Player_Name='CH Gayle'),\n",
       " Row(Match_Id=598013, Player_Name='CH Gayle'),\n",
       " Row(Match_Id=598017, Player_Name='CH Gayle'),\n",
       " Row(Match_Id=598022, Player_Name='CH Gayle'),\n",
       " Row(Match_Id=598028, Player_Name='CH Gayle'),\n",
       " Row(Match_Id=598032, Player_Name='CH Gayle'),\n",
       " Row(Match_Id=598038, Player_Name='CH Gayle'),\n",
       " Row(Match_Id=598041, Player_Name='CH Gayle'),\n",
       " Row(Match_Id=598047, Player_Name='CH Gayle'),\n",
       " Row(Match_Id=598050, Player_Name='CH Gayle'),\n",
       " Row(Match_Id=598053, Player_Name='CH Gayle'),\n",
       " Row(Match_Id=598059, Player_Name='CH Gayle'),\n",
       " Row(Match_Id=598062, Player_Name='CH Gayle'),\n",
       " Row(Match_Id=598069, Player_Name='CH Gayle'),\n",
       " Row(Match_Id=598073, Player_Name='CH Gayle'),\n",
       " Row(Match_Id=729318, Player_Name='CH Gayle'),\n",
       " Row(Match_Id=733982, Player_Name='CH Gayle'),\n",
       " Row(Match_Id=733988, Player_Name='CH Gayle'),\n",
       " Row(Match_Id=733996, Player_Name='CH Gayle'),\n",
       " Row(Match_Id=734004, Player_Name='CH Gayle'),\n",
       " Row(Match_Id=734010, Player_Name='CH Gayle'),\n",
       " Row(Match_Id=734018, Player_Name='CH Gayle'),\n",
       " Row(Match_Id=734026, Player_Name='CH Gayle'),\n",
       " Row(Match_Id=734032, Player_Name='CH Gayle'),\n",
       " Row(Match_Id=829718, Player_Name='CH Gayle'),\n",
       " Row(Match_Id=829724, Player_Name='CH Gayle'),\n",
       " Row(Match_Id=829742, Player_Name='CH Gayle'),\n",
       " Row(Match_Id=829754, Player_Name='CH Gayle'),\n",
       " Row(Match_Id=829762, Player_Name='CH Gayle'),\n",
       " Row(Match_Id=829768, Player_Name='CH Gayle'),\n",
       " Row(Match_Id=829776, Player_Name='CH Gayle'),\n",
       " Row(Match_Id=829790, Player_Name='CH Gayle'),\n",
       " Row(Match_Id=829800, Player_Name='CH Gayle'),\n",
       " Row(Match_Id=829808, Player_Name='CH Gayle'),\n",
       " Row(Match_Id=829812, Player_Name='CH Gayle'),\n",
       " Row(Match_Id=829818, Player_Name='CH Gayle'),\n",
       " Row(Match_Id=829824, Player_Name='CH Gayle'),\n",
       " Row(Match_Id=829826, Player_Name='CH Gayle'),\n",
       " Row(Match_Id=980912, Player_Name='CH Gayle'),\n",
       " Row(Match_Id=980926, Player_Name='CH Gayle'),\n",
       " Row(Match_Id=980964, Player_Name='CH Gayle'),\n",
       " Row(Match_Id=980986, Player_Name='CH Gayle'),\n",
       " Row(Match_Id=980992, Player_Name='CH Gayle'),\n",
       " Row(Match_Id=981000, Player_Name='CH Gayle'),\n",
       " Row(Match_Id=981004, Player_Name='CH Gayle'),\n",
       " Row(Match_Id=981016, Player_Name='CH Gayle'),\n",
       " Row(Match_Id=981018, Player_Name='CH Gayle'),\n",
       " Row(Match_Id=981024, Player_Name='CH Gayle'),\n",
       " Row(Match_Id=1082591, Player_Name='CH Gayle'),\n",
       " Row(Match_Id=1082595, Player_Name='CH Gayle'),\n",
       " Row(Match_Id=1082602, Player_Name='CH Gayle'),\n",
       " Row(Match_Id=1082610, Player_Name='CH Gayle'),\n",
       " Row(Match_Id=1082617, Player_Name='CH Gayle'),\n",
       " Row(Match_Id=1082621, Player_Name='CH Gayle'),\n",
       " Row(Match_Id=1082633, Player_Name='CH Gayle'),\n",
       " Row(Match_Id=1082636, Player_Name='CH Gayle'),\n",
       " Row(Match_Id=1082646, Player_Name='CH Gayle')]"
      ]
     },
     "execution_count": 123,
     "metadata": {},
     "output_type": "execute_result"
    }
   ],
   "source": [
    "player_match_subset = player_match.select('Match_Id','Player_Name')\n",
    "abcd = player_match_subset.filter(\"Player_Name == 'CH Gayle'\").collect()\n",
    "abcd"
   ]
  },
  {
   "cell_type": "code",
   "execution_count": 124,
   "id": "8e53a80e",
   "metadata": {},
   "outputs": [],
   "source": [
    "ball_subset = ball.select('MatcH_id','Runs_Scored','Wides','Bowler_Extras','Legbyes','Byes')\n",
    "ball_subset.createOrReplaceTempView('ball_tmp')"
   ]
  },
  {
   "cell_type": "code",
   "execution_count": 125,
   "id": "62ff9fd1",
   "metadata": {},
   "outputs": [
    {
     "ename": "AnalysisException",
     "evalue": "\"Temporary view 'pm_tmp' already exists;\"",
     "output_type": "error",
     "traceback": [
      "\u001b[0;31m---------------------------------------------------------------------------\u001b[0m",
      "\u001b[0;31mPy4JJavaError\u001b[0m                             Traceback (most recent call last)",
      "\u001b[0;32m~/spark-2.4.4-bin-hadoop2.7/python/lib/pyspark.zip/pyspark/sql/utils.py\u001b[0m in \u001b[0;36mdeco\u001b[0;34m(*a, **kw)\u001b[0m\n\u001b[1;32m     62\u001b[0m         \u001b[0;32mtry\u001b[0m\u001b[0;34m:\u001b[0m\u001b[0;34m\u001b[0m\u001b[0;34m\u001b[0m\u001b[0m\n\u001b[0;32m---> 63\u001b[0;31m             \u001b[0;32mreturn\u001b[0m \u001b[0mf\u001b[0m\u001b[0;34m(\u001b[0m\u001b[0;34m*\u001b[0m\u001b[0ma\u001b[0m\u001b[0;34m,\u001b[0m \u001b[0;34m**\u001b[0m\u001b[0mkw\u001b[0m\u001b[0;34m)\u001b[0m\u001b[0;34m\u001b[0m\u001b[0;34m\u001b[0m\u001b[0m\n\u001b[0m\u001b[1;32m     64\u001b[0m         \u001b[0;32mexcept\u001b[0m \u001b[0mpy4j\u001b[0m\u001b[0;34m.\u001b[0m\u001b[0mprotocol\u001b[0m\u001b[0;34m.\u001b[0m\u001b[0mPy4JJavaError\u001b[0m \u001b[0;32mas\u001b[0m \u001b[0me\u001b[0m\u001b[0;34m:\u001b[0m\u001b[0;34m\u001b[0m\u001b[0;34m\u001b[0m\u001b[0m\n",
      "\u001b[0;32m~/spark-2.4.4-bin-hadoop2.7/python/lib/py4j-0.10.7-src.zip/py4j/protocol.py\u001b[0m in \u001b[0;36mget_return_value\u001b[0;34m(answer, gateway_client, target_id, name)\u001b[0m\n\u001b[1;32m    327\u001b[0m                     \u001b[0;34m\"An error occurred while calling {0}{1}{2}.\\n\"\u001b[0m\u001b[0;34m.\u001b[0m\u001b[0;34m\u001b[0m\u001b[0;34m\u001b[0m\u001b[0m\n\u001b[0;32m--> 328\u001b[0;31m                     format(target_id, \".\", name), value)\n\u001b[0m\u001b[1;32m    329\u001b[0m             \u001b[0;32melse\u001b[0m\u001b[0;34m:\u001b[0m\u001b[0;34m\u001b[0m\u001b[0;34m\u001b[0m\u001b[0m\n",
      "\u001b[0;31mPy4JJavaError\u001b[0m: An error occurred while calling o1346.createTempView.\n: org.apache.spark.sql.catalyst.analysis.TempTableAlreadyExistsException: Temporary view 'pm_tmp' already exists;\n\tat org.apache.spark.sql.catalyst.catalog.SessionCatalog.createTempView(SessionCatalog.scala:495)\n\tat org.apache.spark.sql.execution.command.CreateViewCommand.run(views.scala:146)\n\tat org.apache.spark.sql.execution.command.ExecutedCommandExec.sideEffectResult$lzycompute(commands.scala:70)\n\tat org.apache.spark.sql.execution.command.ExecutedCommandExec.sideEffectResult(commands.scala:68)\n\tat org.apache.spark.sql.execution.command.ExecutedCommandExec.executeCollect(commands.scala:79)\n\tat org.apache.spark.sql.Dataset$$anonfun$6.apply(Dataset.scala:194)\n\tat org.apache.spark.sql.Dataset$$anonfun$6.apply(Dataset.scala:194)\n\tat org.apache.spark.sql.Dataset$$anonfun$52.apply(Dataset.scala:3370)\n\tat org.apache.spark.sql.execution.SQLExecution$$anonfun$withNewExecutionId$1.apply(SQLExecution.scala:78)\n\tat org.apache.spark.sql.execution.SQLExecution$.withSQLConfPropagated(SQLExecution.scala:125)\n\tat org.apache.spark.sql.execution.SQLExecution$.withNewExecutionId(SQLExecution.scala:73)\n\tat org.apache.spark.sql.Dataset.withAction(Dataset.scala:3369)\n\tat org.apache.spark.sql.Dataset.<init>(Dataset.scala:194)\n\tat org.apache.spark.sql.Dataset$.ofRows(Dataset.scala:79)\n\tat org.apache.spark.sql.Dataset.org$apache$spark$sql$Dataset$$withPlan(Dataset.scala:3412)\n\tat org.apache.spark.sql.Dataset.createTempView(Dataset.scala:3088)\n\tat sun.reflect.NativeMethodAccessorImpl.invoke0(Native Method)\n\tat sun.reflect.NativeMethodAccessorImpl.invoke(NativeMethodAccessorImpl.java:62)\n\tat sun.reflect.DelegatingMethodAccessorImpl.invoke(DelegatingMethodAccessorImpl.java:43)\n\tat java.lang.reflect.Method.invoke(Method.java:498)\n\tat py4j.reflection.MethodInvoker.invoke(MethodInvoker.java:244)\n\tat py4j.reflection.ReflectionEngine.invoke(ReflectionEngine.java:357)\n\tat py4j.Gateway.invoke(Gateway.java:282)\n\tat py4j.commands.AbstractCommand.invokeMethod(AbstractCommand.java:132)\n\tat py4j.commands.CallCommand.execute(CallCommand.java:79)\n\tat py4j.GatewayConnection.run(GatewayConnection.java:238)\n\tat java.lang.Thread.run(Thread.java:748)\n",
      "\nDuring handling of the above exception, another exception occurred:\n",
      "\u001b[0;31mAnalysisException\u001b[0m                         Traceback (most recent call last)",
      "\u001b[0;32m/tmp/ipykernel_3588/2626481586.py\u001b[0m in \u001b[0;36m<module>\u001b[0;34m\u001b[0m\n\u001b[0;32m----> 1\u001b[0;31m \u001b[0mplayer_match_subset\u001b[0m\u001b[0;34m.\u001b[0m\u001b[0mcreateTempView\u001b[0m\u001b[0;34m(\u001b[0m\u001b[0;34m'pm_tmp'\u001b[0m\u001b[0;34m)\u001b[0m\u001b[0;34m\u001b[0m\u001b[0;34m\u001b[0m\u001b[0m\n\u001b[0m",
      "\u001b[0;32m~/spark-2.4.4-bin-hadoop2.7/python/lib/pyspark.zip/pyspark/sql/dataframe.py\u001b[0m in \u001b[0;36mcreateTempView\u001b[0;34m(self, name)\u001b[0m\n\u001b[1;32m    161\u001b[0m \u001b[0;34m\u001b[0m\u001b[0m\n\u001b[1;32m    162\u001b[0m         \"\"\"\n\u001b[0;32m--> 163\u001b[0;31m         \u001b[0mself\u001b[0m\u001b[0;34m.\u001b[0m\u001b[0m_jdf\u001b[0m\u001b[0;34m.\u001b[0m\u001b[0mcreateTempView\u001b[0m\u001b[0;34m(\u001b[0m\u001b[0mname\u001b[0m\u001b[0;34m)\u001b[0m\u001b[0;34m\u001b[0m\u001b[0;34m\u001b[0m\u001b[0m\n\u001b[0m\u001b[1;32m    164\u001b[0m \u001b[0;34m\u001b[0m\u001b[0m\n\u001b[1;32m    165\u001b[0m     \u001b[0;34m@\u001b[0m\u001b[0msince\u001b[0m\u001b[0;34m(\u001b[0m\u001b[0;36m2.0\u001b[0m\u001b[0;34m)\u001b[0m\u001b[0;34m\u001b[0m\u001b[0;34m\u001b[0m\u001b[0m\n",
      "\u001b[0;32m~/spark-2.4.4-bin-hadoop2.7/python/lib/py4j-0.10.7-src.zip/py4j/java_gateway.py\u001b[0m in \u001b[0;36m__call__\u001b[0;34m(self, *args)\u001b[0m\n\u001b[1;32m   1255\u001b[0m         \u001b[0manswer\u001b[0m \u001b[0;34m=\u001b[0m \u001b[0mself\u001b[0m\u001b[0;34m.\u001b[0m\u001b[0mgateway_client\u001b[0m\u001b[0;34m.\u001b[0m\u001b[0msend_command\u001b[0m\u001b[0;34m(\u001b[0m\u001b[0mcommand\u001b[0m\u001b[0;34m)\u001b[0m\u001b[0;34m\u001b[0m\u001b[0;34m\u001b[0m\u001b[0m\n\u001b[1;32m   1256\u001b[0m         return_value = get_return_value(\n\u001b[0;32m-> 1257\u001b[0;31m             answer, self.gateway_client, self.target_id, self.name)\n\u001b[0m\u001b[1;32m   1258\u001b[0m \u001b[0;34m\u001b[0m\u001b[0m\n\u001b[1;32m   1259\u001b[0m         \u001b[0;32mfor\u001b[0m \u001b[0mtemp_arg\u001b[0m \u001b[0;32min\u001b[0m \u001b[0mtemp_args\u001b[0m\u001b[0;34m:\u001b[0m\u001b[0;34m\u001b[0m\u001b[0;34m\u001b[0m\u001b[0m\n",
      "\u001b[0;32m~/spark-2.4.4-bin-hadoop2.7/python/lib/pyspark.zip/pyspark/sql/utils.py\u001b[0m in \u001b[0;36mdeco\u001b[0;34m(*a, **kw)\u001b[0m\n\u001b[1;32m     69\u001b[0m                 \u001b[0;32mraise\u001b[0m \u001b[0mAnalysisException\u001b[0m\u001b[0;34m(\u001b[0m\u001b[0ms\u001b[0m\u001b[0;34m.\u001b[0m\u001b[0msplit\u001b[0m\u001b[0;34m(\u001b[0m\u001b[0;34m': '\u001b[0m\u001b[0;34m,\u001b[0m \u001b[0;36m1\u001b[0m\u001b[0;34m)\u001b[0m\u001b[0;34m[\u001b[0m\u001b[0;36m1\u001b[0m\u001b[0;34m]\u001b[0m\u001b[0;34m,\u001b[0m \u001b[0mstackTrace\u001b[0m\u001b[0;34m)\u001b[0m\u001b[0;34m\u001b[0m\u001b[0;34m\u001b[0m\u001b[0m\n\u001b[1;32m     70\u001b[0m             \u001b[0;32mif\u001b[0m \u001b[0ms\u001b[0m\u001b[0;34m.\u001b[0m\u001b[0mstartswith\u001b[0m\u001b[0;34m(\u001b[0m\u001b[0;34m'org.apache.spark.sql.catalyst.analysis'\u001b[0m\u001b[0;34m)\u001b[0m\u001b[0;34m:\u001b[0m\u001b[0;34m\u001b[0m\u001b[0;34m\u001b[0m\u001b[0m\n\u001b[0;32m---> 71\u001b[0;31m                 \u001b[0;32mraise\u001b[0m \u001b[0mAnalysisException\u001b[0m\u001b[0;34m(\u001b[0m\u001b[0ms\u001b[0m\u001b[0;34m.\u001b[0m\u001b[0msplit\u001b[0m\u001b[0;34m(\u001b[0m\u001b[0;34m': '\u001b[0m\u001b[0;34m,\u001b[0m \u001b[0;36m1\u001b[0m\u001b[0;34m)\u001b[0m\u001b[0;34m[\u001b[0m\u001b[0;36m1\u001b[0m\u001b[0;34m]\u001b[0m\u001b[0;34m,\u001b[0m \u001b[0mstackTrace\u001b[0m\u001b[0;34m)\u001b[0m\u001b[0;34m\u001b[0m\u001b[0;34m\u001b[0m\u001b[0m\n\u001b[0m\u001b[1;32m     72\u001b[0m             \u001b[0;32mif\u001b[0m \u001b[0ms\u001b[0m\u001b[0;34m.\u001b[0m\u001b[0mstartswith\u001b[0m\u001b[0;34m(\u001b[0m\u001b[0;34m'org.apache.spark.sql.catalyst.parser.ParseException: '\u001b[0m\u001b[0;34m)\u001b[0m\u001b[0;34m:\u001b[0m\u001b[0;34m\u001b[0m\u001b[0;34m\u001b[0m\u001b[0m\n\u001b[1;32m     73\u001b[0m                 \u001b[0;32mraise\u001b[0m \u001b[0mParseException\u001b[0m\u001b[0;34m(\u001b[0m\u001b[0ms\u001b[0m\u001b[0;34m.\u001b[0m\u001b[0msplit\u001b[0m\u001b[0;34m(\u001b[0m\u001b[0;34m': '\u001b[0m\u001b[0;34m,\u001b[0m \u001b[0;36m1\u001b[0m\u001b[0;34m)\u001b[0m\u001b[0;34m[\u001b[0m\u001b[0;36m1\u001b[0m\u001b[0;34m]\u001b[0m\u001b[0;34m,\u001b[0m \u001b[0mstackTrace\u001b[0m\u001b[0;34m)\u001b[0m\u001b[0;34m\u001b[0m\u001b[0;34m\u001b[0m\u001b[0m\n",
      "\u001b[0;31mAnalysisException\u001b[0m: \"Temporary view 'pm_tmp' already exists;\""
     ]
    }
   ],
   "source": [
    "player_match_subset.createTempView('pm_tmp')"
   ]
  },
  {
   "cell_type": "code",
   "execution_count": 126,
   "id": "8518c308",
   "metadata": {},
   "outputs": [
    {
     "name": "stdout",
     "output_type": "stream",
     "text": [
      "+----------------------+-----+------------------+------------+---------+\n",
      "|Total_Runs_By_CH_Gayle|Wides|sum(Bowler_Extras)|sum(Legbyes)|sum(Byes)|\n",
      "+----------------------+-----+------------------+------------+---------+\n",
      "|                 29699|  965|              1078|         497|      133|\n",
      "+----------------------+-----+------------------+------------+---------+\n",
      "\n"
     ]
    },
    {
     "name": "stderr",
     "output_type": "stream",
     "text": [
      "                                                                                \r"
     ]
    }
   ],
   "source": [
    "spark.sql(\"select sum(Runs_Scored) as Total_Runs_By_CH_Gayle,sum(Wides) as Wides,sum(Bowler_Extras), sum(Legbyes), sum(Byes) from ball_tmp where MatcH_id in (select Match_Id from pm_tmp where Player_Name == 'CH Gayle')\").show()"
   ]
  },
  {
   "cell_type": "code",
   "execution_count": 127,
   "id": "9ad6fd7f",
   "metadata": {},
   "outputs": [
    {
     "name": "stdout",
     "output_type": "stream",
     "text": [
      "+--------+\n",
      "|Match_Id|\n",
      "+--------+\n",
      "|  392191|\n",
      "|  501227|\n",
      "|  501249|\n",
      "|  501252|\n",
      "|  501260|\n",
      "|  501271|\n",
      "|  501275|\n",
      "|  548332|\n",
      "|  548336|\n",
      "|  548365|\n",
      "|  548367|\n",
      "|  548377|\n",
      "|  598004|\n",
      "|  598013|\n",
      "|  598032|\n",
      "|  829718|\n",
      "|  829790|\n",
      "| 1082610|\n",
      "+--------+\n",
      "\n"
     ]
    }
   ],
   "source": [
    "spark.sql(\"select Match_Id from match_tmp where ManOfMach == 'CH Gayle'\").show()"
   ]
  },
  {
   "cell_type": "code",
   "execution_count": 128,
   "id": "8178498d",
   "metadata": {},
   "outputs": [
    {
     "name": "stdout",
     "output_type": "stream",
     "text": [
      "+--------+\n",
      "|Match_Id|\n",
      "+--------+\n",
      "|  392189|\n",
      "|  392191|\n",
      "|  392195|\n",
      "|  392202|\n",
      "|  392204|\n",
      "|  392208|\n",
      "|  392212|\n",
      "|  419127|\n",
      "|  419132|\n",
      "|  419136|\n",
      "|  419140|\n",
      "|  419144|\n",
      "|  419149|\n",
      "|  419153|\n",
      "|  419158|\n",
      "|  419163|\n",
      "|  501227|\n",
      "|  501232|\n",
      "|  501237|\n",
      "|  501249|\n",
      "+--------+\n",
      "only showing top 20 rows\n",
      "\n"
     ]
    }
   ],
   "source": [
    "spark.sql(\"select Match_Id from pm_tmp where Player_Name == 'CH Gayle'\").show()"
   ]
  },
  {
   "cell_type": "code",
   "execution_count": 129,
   "id": "810a88f6",
   "metadata": {},
   "outputs": [
    {
     "name": "stderr",
     "output_type": "stream",
     "text": [
      "                                                                                \r"
     ]
    },
    {
     "name": "stdout",
     "output_type": "stream",
     "text": [
      "+----------------+\n",
      "|sum(Runs_Scored)|\n",
      "+----------------+\n",
      "|            3606|\n",
      "+----------------+\n",
      "\n"
     ]
    }
   ],
   "source": [
    "df_ball = spark.read.csv(\"Ball_By_Ball.csv\", inferSchema=True, header = True)\n",
    "\n",
    "df_player = spark.read.csv(\"Player.csv\", inferSchema=True, header = True)\n",
    "\n",
    "df_player.createOrReplaceTempView(\"player\")\n",
    "\n",
    "df_ball.createOrReplaceTempView(\"ball\")\n",
    "\n",
    "df_join = spark.sql(\"select * from ball left join player on ball.Striker == player.Player_Id\")\n",
    "\n",
    "df = df_join.select('Runs_Scored','Player_Name','Extra_Type').filter(\"Player_Name == 'CH Gayle'and Extra_Type=='No Extras' \")\n",
    "\n",
    "from pyspark.sql.functions import sum\n",
    "\n",
    "df.select(sum(df.Runs_Scored)).show()"
   ]
  },
  {
   "cell_type": "code",
   "execution_count": 130,
   "id": "5b630e60",
   "metadata": {},
   "outputs": [
    {
     "name": "stderr",
     "output_type": "stream",
     "text": [
      "                                                                                \r"
     ]
    },
    {
     "data": {
      "text/plain": [
       "[Row(Player_Name='SR Tendulkar', Sum_Runs=617),\n",
       " Row(Player_Name='JH Kallis', Sum_Runs=572),\n",
       " Row(Player_Name='SK Raina', Sum_Runs=528),\n",
       " Row(Player_Name='SC Ganguly', Sum_Runs=493),\n",
       " Row(Player_Name='M Vijay', Sum_Runs=458),\n",
       " Row(Player_Name='DPMD Jayawardene', Sum_Runs=445),\n",
       " Row(Player_Name='A Symonds', Sum_Runs=429),\n",
       " Row(Player_Name='SS Tiwary', Sum_Runs=419),\n",
       " Row(Player_Name='RG Sharma', Sum_Runs=404),\n",
       " Row(Player_Name='NV Ojha', Sum_Runs=377),\n",
       " Row(Player_Name='RV Uthappa', Sum_Runs=374),\n",
       " Row(Player_Name='KC Sangakkara', Sum_Runs=357),\n",
       " Row(Player_Name='S Badrinath', Sum_Runs=356),\n",
       " Row(Player_Name='V Sehwag', Sum_Runs=356),\n",
       " Row(Player_Name='AT Rayudu', Sum_Runs=356),\n",
       " Row(Player_Name='ML Hayden', Sum_Runs=346),\n",
       " Row(Player_Name='YK Pathan', Sum_Runs=333),\n",
       " Row(Player_Name='TL Suman', Sum_Runs=307),\n",
       " Row(Player_Name='V Kohli', Sum_Runs=307),\n",
       " Row(Player_Name='CH Gayle', Sum_Runs=292),\n",
       " Row(Player_Name='AC Gilchrist', Sum_Runs=289),\n",
       " Row(Player_Name='MS Dhoni', Sum_Runs=287),\n",
       " Row(Player_Name='DA Warner', Sum_Runs=282),\n",
       " Row(Player_Name='MJ Lumb', Sum_Runs=278),\n",
       " Row(Player_Name='KD Karthik', Sum_Runs=278),\n",
       " Row(Player_Name='G Gambhir', Sum_Runs=277),\n",
       " Row(Player_Name='IK Pathan', Sum_Runs=276),\n",
       " Row(Player_Name='KA Pollard', Sum_Runs=273),\n",
       " Row(Player_Name='HH Gibbs', Sum_Runs=267),\n",
       " Row(Player_Name='Yuvraj Singh', Sum_Runs=259),\n",
       " Row(Player_Name='R Dravid', Sum_Runs=256),\n",
       " Row(Player_Name='MK Pandey', Sum_Runs=249),\n",
       " Row(Player_Name='RS Bopara', Sum_Runs=248),\n",
       " Row(Player_Name='MK Tiwary', Sum_Runs=237),\n",
       " Row(Player_Name='KP Pietersen', Sum_Runs=236),\n",
       " Row(Player_Name='AD Mathews', Sum_Runs=233),\n",
       " Row(Player_Name='MS Bisla', Sum_Runs=218),\n",
       " Row(Player_Name='PD Collingwood', Sum_Runs=203),\n",
       " Row(Player_Name='JA Morkel', Sum_Runs=199),\n",
       " Row(Player_Name='S Dhawan', Sum_Runs=191),\n",
       " Row(Player_Name='SR Watson', Sum_Runs=185),\n",
       " Row(Player_Name='AA Jhunjhunwala', Sum_Runs=183),\n",
       " Row(Player_Name='AC Voges', Sum_Runs=181),\n",
       " Row(Player_Name='MD Mishra', Sum_Runs=166),\n",
       " Row(Player_Name='FY Fazal', Sum_Runs=164),\n",
       " Row(Player_Name='M Manhas', Sum_Runs=157),\n",
       " Row(Player_Name='JP Duminy', Sum_Runs=157),\n",
       " Row(Player_Name='SE Marsh', Sum_Runs=147),\n",
       " Row(Player_Name='CA Pujara', Sum_Runs=122),\n",
       " Row(Player_Name='OA Shah', Sum_Runs=115),\n",
       " Row(Player_Name='BB McCullum', Sum_Runs=114),\n",
       " Row(Player_Name='R Sathish', Sum_Runs=112),\n",
       " Row(Player_Name='AB de Villiers', Sum_Runs=111),\n",
       " Row(Player_Name='P Dogra', Sum_Runs=107),\n",
       " Row(Player_Name='Harbhajan Singh', Sum_Runs=105),\n",
       " Row(Player_Name='BJ Hodge', Sum_Runs=99),\n",
       " Row(Player_Name='DJ Hussey', Sum_Runs=94),\n",
       " Row(Player_Name='LRPL Taylor', Sum_Runs=88),\n",
       " Row(Player_Name='KM Jadhav', Sum_Runs=76),\n",
       " Row(Player_Name='PA Patel', Sum_Runs=72),\n",
       " Row(Player_Name='WP Saha', Sum_Runs=67),\n",
       " Row(Player_Name='R McLaren', Sum_Runs=66),\n",
       " Row(Player_Name='AB McDonald', Sum_Runs=65),\n",
       " Row(Player_Name='VVS Laxman', Sum_Runs=64),\n",
       " Row(Player_Name='Anirudh Singh', Sum_Runs=63),\n",
       " Row(Player_Name='PP Chawla', Sum_Runs=62),\n",
       " Row(Player_Name='DJ Bravo', Sum_Runs=61),\n",
       " Row(Player_Name='AM Nayar', Sum_Runs=58),\n",
       " Row(Player_Name='AS Raut', Sum_Runs=56),\n",
       " Row(Player_Name='AP Tare', Sum_Runs=50),\n",
       " Row(Player_Name='CL White', Sum_Runs=48),\n",
       " Row(Player_Name='RJ Harris', Sum_Runs=45),\n",
       " Row(Player_Name='TM Dilshan', Sum_Runs=44),\n",
       " Row(Player_Name='GC Smith', Sum_Runs=44),\n",
       " Row(Player_Name='AB Barath', Sum_Runs=42),\n",
       " Row(Player_Name='AB Agarkar', Sum_Runs=40),\n",
       " Row(Player_Name='A Mishra', Sum_Runs=39),\n",
       " Row(Player_Name='MEK Hussey', Sum_Runs=37),\n",
       " Row(Player_Name='LR Shukla', Sum_Runs=36),\n",
       " Row(Player_Name='B Sumanth', Sum_Runs=35),\n",
       " Row(Player_Name='EJG Morgan', Sum_Runs=35),\n",
       " Row(Player_Name='Y Venugopal Rao', Sum_Runs=34),\n",
       " Row(Player_Name='AP Dole', Sum_Runs=34),\n",
       " Row(Player_Name='DL Vettori', Sum_Runs=33),\n",
       " Row(Player_Name='ST Jayasuriya', Sum_Runs=33),\n",
       " Row(Player_Name='MF Maharoof', Sum_Runs=31),\n",
       " Row(Player_Name='S Anirudha', Sum_Runs=30),\n",
       " Row(Player_Name='R Ashwin', Sum_Runs=30),\n",
       " Row(Player_Name='WPUJC Vaas', Sum_Runs=30),\n",
       " Row(Player_Name='R Sharma', Sum_Runs=29),\n",
       " Row(Player_Name='M Kaif', Sum_Runs=28),\n",
       " Row(Player_Name='MR Marsh', Sum_Runs=28),\n",
       " Row(Player_Name='S Sriram', Sum_Runs=27),\n",
       " Row(Player_Name='R Vinay Kumar', Sum_Runs=27),\n",
       " Row(Player_Name='S Sreesanth', Sum_Runs=27),\n",
       " Row(Player_Name='JM Kemp', Sum_Runs=26),\n",
       " Row(Player_Name='R Bhatia', Sum_Runs=24),\n",
       " Row(Player_Name='Z Khan', Sum_Runs=24),\n",
       " Row(Player_Name='A Nehra', Sum_Runs=23),\n",
       " Row(Player_Name='DR Smith', Sum_Runs=22),\n",
       " Row(Player_Name='M Kartik', Sum_Runs=22),\n",
       " Row(Player_Name='AJ Finch', Sum_Runs=21),\n",
       " Row(Player_Name='SK Trivedi', Sum_Runs=20),\n",
       " Row(Player_Name='DR Martyn', Sum_Runs=19),\n",
       " Row(Player_Name='K Goel', Sum_Runs=18),\n",
       " Row(Player_Name='GJ Bailey', Sum_Runs=18),\n",
       " Row(Player_Name='DE Bollinger', Sum_Runs=18),\n",
       " Row(Player_Name='L Balaji', Sum_Runs=18),\n",
       " Row(Player_Name='C Madan', Sum_Runs=15),\n",
       " Row(Player_Name='S Narwal', Sum_Runs=14),\n",
       " Row(Player_Name='DW Steyn', Sum_Runs=13),\n",
       " Row(Player_Name='MV Boucher', Sum_Runs=13),\n",
       " Row(Player_Name='AD Mascarenhas', Sum_Runs=12),\n",
       " Row(Player_Name='SW Tait', Sum_Runs=12),\n",
       " Row(Player_Name='B Lee', Sum_Runs=11),\n",
       " Row(Player_Name='MC Henriques', Sum_Runs=11),\n",
       " Row(Player_Name='T Thushara', Sum_Runs=10),\n",
       " Row(Player_Name='PJ Sangwan', Sum_Runs=10),\n",
       " Row(Player_Name='SK Warne', Sum_Runs=10),\n",
       " Row(Player_Name='KAJ Roach', Sum_Runs=10),\n",
       " Row(Player_Name='Bipul Sharma', Sum_Runs=9),\n",
       " Row(Player_Name='M Morkel', Sum_Runs=9),\n",
       " Row(Player_Name='RP Singh', Sum_Runs=9),\n",
       " Row(Player_Name='Jaskaran Singh', Sum_Runs=8),\n",
       " Row(Player_Name='STR Binny', Sum_Runs=8),\n",
       " Row(Player_Name='SP Goswami', Sum_Runs=8),\n",
       " Row(Player_Name='A Kumble', Sum_Runs=6),\n",
       " Row(Player_Name='VS Malik', Sum_Runs=6),\n",
       " Row(Player_Name='I Sharma', Sum_Runs=6),\n",
       " Row(Player_Name='SA Asnodkar', Sum_Runs=5),\n",
       " Row(Player_Name='RR Powar', Sum_Runs=5),\n",
       " Row(Player_Name='A Mithun', Sum_Runs=5),\n",
       " Row(Player_Name='RS Sodhi', Sum_Runs=4),\n",
       " Row(Player_Name='DP Nannes', Sum_Runs=4),\n",
       " Row(Player_Name='A Uniyal', Sum_Runs=4),\n",
       " Row(Player_Name='AN Ahmed', Sum_Runs=4),\n",
       " Row(Player_Name='Mandeep Singh', Sum_Runs=4),\n",
       " Row(Player_Name='P Kumar', Sum_Runs=4),\n",
       " Row(Player_Name='MM Patel', Sum_Runs=4),\n",
       " Row(Player_Name='KB Arun Karthik', Sum_Runs=3),\n",
       " Row(Player_Name='S Tyagi', Sum_Runs=3),\n",
       " Row(Player_Name='UT Yadav', Sum_Runs=3),\n",
       " Row(Player_Name='PP Ojha', Sum_Runs=3),\n",
       " Row(Player_Name='MS Gony', Sum_Runs=2),\n",
       " Row(Player_Name='J Theron', Sum_Runs=2),\n",
       " Row(Player_Name='CRD Fernando', Sum_Runs=2),\n",
       " Row(Player_Name='RS Gavaskar', Sum_Runs=2),\n",
       " Row(Player_Name='AA Bilakhia', Sum_Runs=2),\n",
       " Row(Player_Name='KP Appanna', Sum_Runs=2),\n",
       " Row(Player_Name='M Muralitharan', Sum_Runs=1),\n",
       " Row(Player_Name='SJ Srivastava', Sum_Runs=1),\n",
       " Row(Player_Name='BAW Mendis', Sum_Runs=1),\n",
       " Row(Player_Name='SE Bond', Sum_Runs=1),\n",
       " Row(Player_Name='SL Malinga', Sum_Runs=1),\n",
       " Row(Player_Name='Y Nagar', Sum_Runs=1),\n",
       " Row(Player_Name='RE van der Merwe', Sum_Runs=1),\n",
       " Row(Player_Name='Pankaj Singh', Sum_Runs=1),\n",
       " Row(Player_Name='CK Langeveldt', Sum_Runs=0),\n",
       " Row(Player_Name='AB Dinda', Sum_Runs=0),\n",
       " Row(Player_Name='AG Paunikar', Sum_Runs=0),\n",
       " Row(Player_Name='Harmeet Singh', Sum_Runs=0),\n",
       " Row(Player_Name='Iqbal Abdulla', Sum_Runs=0),\n",
       " Row(Player_Name='S Ladda', Sum_Runs=0),\n",
       " Row(Player_Name='YA Abdulla', Sum_Runs=0)]"
      ]
     },
     "execution_count": 130,
     "metadata": {},
     "output_type": "execute_result"
    }
   ],
   "source": [
    "df_join = spark.sql(\"select * from ball left join player on ball.Striker == player.Player_Id join match_tmp on match_tmp.MatcH_id == ball.Match_Id\")\n",
    "import pyspark.sql.functions as func\n",
    "df = df_join.select('Runs_Scored','Player_Name').filter(\"Season_Year == 2010\").groupBy('Player_Name').agg(func.sum(\"Runs_Scored\").alias(\"Sum_Runs\")).orderBy(\"Sum_Runs\",ascending=False)\n",
    "df.collect()"
   ]
  },
  {
   "cell_type": "code",
   "execution_count": null,
   "id": "a6fc6e54",
   "metadata": {},
   "outputs": [],
   "source": [
    "#Another Approach (Solution)\n",
    "df_ball = spark.read.csv(\"ball_by_ball.csv\", inferSchema=True, header = True)\n",
    "df_player = spark.read.csv(\"player.csv\", inferSchema=True, header = True)\n",
    "df_match = spark.read.csv(\"match.csv\", inferSchema=True, header = True)\n",
    "\n",
    "df_match.createOrReplaceTempView(\"match\")\n",
    "df_ball.createOrReplaceTempView(\"ball\")\n",
    "df_player.createOrReplaceTempView(\"player\")\n",
    "\n",
    "df_join = spark.sql(\"select * from ball left join player on ball.Striker == player.Player_Id\")\n",
    "df_join.createOrReplaceTempView(\"join1\")\n",
    "\n",
    "df_large= spark.sql(\"select * from join1 left join match on join1.MatcH_id == match.match_id\")\n",
    "\n",
    "df_year = df_large.select(['Striker','Player_Name','Runs_Scored','Season_Year'])\n",
    "\n",
    "df= df_year.filter(\"Season_Year == 2010 and Extra_Type=='No Extras' \")\n",
    "\n",
    "final_df = df.groupby(\"Player_Name\").sum('Runs_Scored')\n",
    "\n",
    "final_df.orderBy(final_df['sum(Runs_Scored)'].desc()).show()"
   ]
  },
  {
   "cell_type": "code",
   "execution_count": null,
   "id": "44fc93ce",
   "metadata": {},
   "outputs": [],
   "source": [
    "#The End\n"
   ]
  }
 ],
 "metadata": {
  "kernelspec": {
   "display_name": "Python 3 (ipykernel)",
   "language": "python",
   "name": "python3"
  },
  "language_info": {
   "codemirror_mode": {
    "name": "ipython",
    "version": 3
   },
   "file_extension": ".py",
   "mimetype": "text/x-python",
   "name": "python",
   "nbconvert_exporter": "python",
   "pygments_lexer": "ipython3",
   "version": "3.7.10"
  }
 },
 "nbformat": 4,
 "nbformat_minor": 5
}
