{
 "cells": [
  {
   "cell_type": "code",
   "execution_count": 1,
   "id": "e48c6f6c",
   "metadata": {},
   "outputs": [],
   "source": [
    "import os\n",
    "import sys\n",
    "os.environ[\"PYSPARK_PYTHON\"]=\"/home/ec2-user/spark-2.4.4-bin-hadoop2.7/python\"\n",
    "os.environ[\"JAVA_HOME\"] = \"/usr/java/jdk1.8.0_161/jre\"\n",
    "os.environ[\"SPARK_HOME\"] = \"/home/ec2-user/spark-2.4.4-bin-hadoop2.7\"\n",
    "os.environ[\"PYLIB\"] = os.environ[\"SPARK_HOME\"] + \"/python/lib\"\n",
    "sys.path.insert(0, os.environ[\"PYLIB\"] + \"/py4j-0.10.7-src.zip\")\n",
    "sys.path.insert(0, os.environ[\"PYLIB\"] + \"/pyspark.zip\")"
   ]
  },
  {
   "cell_type": "code",
   "execution_count": 3,
   "id": "63087df3",
   "metadata": {},
   "outputs": [
    {
     "name": "stderr",
     "output_type": "stream",
     "text": [
      "22/08/10 03:17:17 WARN NativeCodeLoader: Unable to load native-hadoop library for your platform... using builtin-java classes where applicable\n",
      "Using Spark's default log4j profile: org/apache/spark/log4j-defaults.properties\n",
      "Setting default log level to \"WARN\".\n",
      "To adjust logging level use sc.setLogLevel(newLevel). For SparkR, use setLogLevel(newLevel).\n"
     ]
    }
   ],
   "source": [
    "from pyspark.sql import SparkSession\n",
    "spark = SparkSession.builder.appName('Graded').getOrCreate()"
   ]
  },
  {
   "cell_type": "code",
   "execution_count": 4,
   "id": "51068b6e",
   "metadata": {},
   "outputs": [
    {
     "name": "stderr",
     "output_type": "stream",
     "text": [
      "                                                                                \r"
     ]
    },
    {
     "name": "stdout",
     "output_type": "stream",
     "text": [
      "+----------+-------+------+\n",
      "|       DOB|   name|salary|\n",
      "+----------+-------+------+\n",
      "|1993-02-16|Michael|  3000|\n",
      "|1991-11-20|   Andy|  4500|\n",
      "|1991-11-28| Justin|  3500|\n",
      "|1993-05-21|  Borta|  4000|\n",
      "|1960-09-25|  David|  4800|\n",
      "|1966-09-19|  Sandy|  5100|\n",
      "|1996-05-31|  Peter|  1500|\n",
      "|1992-03-02|   John|  4700|\n",
      "+----------+-------+------+\n",
      "\n"
     ]
    }
   ],
   "source": [
    "df = spark.read.json('employees_1.json')\n",
    "df.show()"
   ]
  },
  {
   "cell_type": "code",
   "execution_count": 7,
   "id": "426bc344",
   "metadata": {},
   "outputs": [
    {
     "name": "stdout",
     "output_type": "stream",
     "text": [
      "root\n",
      " |-- DOB: string (nullable = true)\n",
      " |-- name: string (nullable = true)\n",
      " |-- salary: string (nullable = true)\n",
      "\n"
     ]
    }
   ],
   "source": [
    "df.printSchema()"
   ]
  },
  {
   "cell_type": "code",
   "execution_count": 8,
   "id": "fdd675f9",
   "metadata": {},
   "outputs": [
    {
     "name": "stdout",
     "output_type": "stream",
     "text": [
      "root\n",
      " |-- DOB: string (nullable = true)\n",
      " |-- name: string (nullable = true)\n",
      " |-- salary: string (nullable = true)\n",
      "\n"
     ]
    }
   ],
   "source": [
    "df2 = spark.read.load('employees_1.json',format='json')\n",
    "df2.printSchema()"
   ]
  },
  {
   "cell_type": "code",
   "execution_count": 22,
   "id": "ba959818",
   "metadata": {},
   "outputs": [
    {
     "name": "stdout",
     "output_type": "stream",
     "text": [
      "root\n",
      " |-- DOB: string (nullable = true)\n",
      " |-- name: string (nullable = true)\n",
      " |-- salary: string (nullable = true)\n",
      " |-- salary_int: integer (nullable = true)\n",
      "\n"
     ]
    }
   ],
   "source": [
    "from pyspark.sql.types import IntegerType,DateType\n",
    "df = df.withColumn('salary_int',df[\"salary\"].cast(IntegerType()))\n",
    "df.printSchema()"
   ]
  },
  {
   "cell_type": "code",
   "execution_count": 23,
   "id": "f14a519e",
   "metadata": {},
   "outputs": [
    {
     "name": "stdout",
     "output_type": "stream",
     "text": [
      "root\n",
      " |-- DOB: string (nullable = true)\n",
      " |-- name: string (nullable = true)\n",
      " |-- salary: string (nullable = true)\n",
      " |-- salary_int: integer (nullable = true)\n",
      " |-- DOB_date: date (nullable = true)\n",
      "\n"
     ]
    }
   ],
   "source": [
    "df = df.withColumn('DOB_date',df[\"DOB\"].cast(DateType()))\n",
    "df.printSchema()"
   ]
  },
  {
   "cell_type": "code",
   "execution_count": 24,
   "id": "20cf0331",
   "metadata": {},
   "outputs": [
    {
     "name": "stdout",
     "output_type": "stream",
     "text": [
      "+----------+-------+------+----------+----------+\n",
      "|       DOB|   name|salary|salary_int|  DOB_date|\n",
      "+----------+-------+------+----------+----------+\n",
      "|1993-02-16|Michael|  3000|      3000|1993-02-16|\n",
      "|1991-11-20|   Andy|  4500|      4500|1991-11-20|\n",
      "|1991-11-28| Justin|  3500|      3500|1991-11-28|\n",
      "|1993-05-21|  Borta|  4000|      4000|1993-05-21|\n",
      "|1960-09-25|  David|  4800|      4800|1960-09-25|\n",
      "|1966-09-19|  Sandy|  5100|      5100|1966-09-19|\n",
      "|1996-05-31|  Peter|  1500|      1500|1996-05-31|\n",
      "|1992-03-02|   John|  4700|      4700|1992-03-02|\n",
      "+----------+-------+------+----------+----------+\n",
      "\n"
     ]
    }
   ],
   "source": [
    "df.show()"
   ]
  },
  {
   "cell_type": "code",
   "execution_count": 25,
   "id": "0d63c71a",
   "metadata": {},
   "outputs": [],
   "source": [
    "df.select('salary_int','DOB_date').write.csv('emplyee_corrected.csv')"
   ]
  },
  {
   "cell_type": "code",
   "execution_count": 26,
   "id": "b3774436",
   "metadata": {},
   "outputs": [],
   "source": [
    "df.select('salary_int','DOB_date').write.option(\"header\", \"true\").csv('emplyee_corrected_2.csv')"
   ]
  },
  {
   "cell_type": "code",
   "execution_count": 27,
   "id": "aafbff88",
   "metadata": {},
   "outputs": [],
   "source": [
    "#The End"
   ]
  }
 ],
 "metadata": {
  "kernelspec": {
   "display_name": "Python 3 (ipykernel)",
   "language": "python",
   "name": "python3"
  },
  "language_info": {
   "codemirror_mode": {
    "name": "ipython",
    "version": 3
   },
   "file_extension": ".py",
   "mimetype": "text/x-python",
   "name": "python",
   "nbconvert_exporter": "python",
   "pygments_lexer": "ipython3",
   "version": "3.7.10"
  }
 },
 "nbformat": 4,
 "nbformat_minor": 5
}
