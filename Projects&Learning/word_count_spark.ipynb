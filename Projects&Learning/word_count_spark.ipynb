{
  "nbformat": 4,
  "nbformat_minor": 0,
  "metadata": {
    "colab": {
      "name": "word_count_spark.ipynb",
      "provenance": [],
      "authorship_tag": "ABX9TyOdlypz3lUIlKN1dIjgD9F9",
      "include_colab_link": true
    },
    "kernelspec": {
      "name": "python3",
      "display_name": "Python 3"
    },
    "language_info": {
      "name": "python"
    }
  },
  "cells": [
    {
      "cell_type": "markdown",
      "metadata": {
        "id": "view-in-github",
        "colab_type": "text"
      },
      "source": [
        "<a href=\"https://colab.research.google.com/github/Suryan5h/Apache-Spark/blob/main/Projects%26Learning/word_count_spark.ipynb\" target=\"_parent\"><img src=\"https://colab.research.google.com/assets/colab-badge.svg\" alt=\"Open In Colab\"/></a>"
      ]
    },
    {
      "cell_type": "code",
      "execution_count": null,
      "metadata": {
        "id": "FcuQzDnavNqZ"
      },
      "outputs": [],
      "source": [
        "#Word Count Spark Practice\n",
        "# install java\n",
        "!apt-get install openjdk-8-jdk-headless -qq > /dev/null\n",
        "\n",
        "# install spark (change the version number if needed)\n",
        "!wget -q https://archive.apache.org/dist/spark/spark-3.0.0/spark-3.0.0-bin-hadoop3.2.tgz\n",
        "\n",
        "# unzip the spark file to the current folder\n",
        "!tar xf spark-3.0.0-bin-hadoop3.2.tgz\n",
        "\n",
        "# set your spark folder to your system path environment. \n",
        "import os\n",
        "os.environ[\"JAVA_HOME\"] = \"/usr/lib/jvm/java-8-openjdk-amd64\"\n",
        "os.environ[\"SPARK_HOME\"] = \"/content/spark-3.0.0-bin-hadoop3.2\"\n",
        "\n",
        "\n",
        "# install findspark using pip\n",
        "!pip install -q findspark"
      ]
    },
    {
      "cell_type": "code",
      "source": [
        "!pip install pyspark"
      ],
      "metadata": {
        "colab": {
          "base_uri": "https://localhost:8080/"
        },
        "id": "HSjxJ6ERvUat",
        "outputId": "a7383f00-144e-479f-8470-950c0e453687"
      },
      "execution_count": null,
      "outputs": [
        {
          "output_type": "stream",
          "name": "stdout",
          "text": [
            "Looking in indexes: https://pypi.org/simple, https://us-python.pkg.dev/colab-wheels/public/simple/\n",
            "Requirement already satisfied: pyspark in /usr/local/lib/python3.7/dist-packages (3.3.0)\n",
            "Requirement already satisfied: py4j==0.10.9.5 in /usr/local/lib/python3.7/dist-packages (from pyspark) (0.10.9.5)\n"
          ]
        }
      ]
    },
    {
      "cell_type": "code",
      "source": [
        "import findspark\n",
        "findspark.init()\n",
        "findspark.find()"
      ],
      "metadata": {
        "colab": {
          "base_uri": "https://localhost:8080/",
          "height": 35
        },
        "id": "aDf5jCOJvu3W",
        "outputId": "f16cd608-bc7f-40e2-8349-5286a0c9cb27"
      },
      "execution_count": null,
      "outputs": [
        {
          "output_type": "execute_result",
          "data": {
            "text/plain": [
              "'/content/spark-3.0.0-bin-hadoop3.2'"
            ],
            "application/vnd.google.colaboratory.intrinsic+json": {
              "type": "string"
            }
          },
          "metadata": {},
          "execution_count": 3
        }
      ]
    },
    {
      "cell_type": "code",
      "source": [
        "from pyspark.sql import DataFrame\n",
        "from pyspark.sql.types import StructType, StructField, StringType, DoubleType, IntegerType, ArrayType, DataType\n",
        "from pyspark.sql import DataFrame, SparkSession\n",
        "from pyspark.sql.functions import *\n",
        "from google.colab import drive"
      ],
      "metadata": {
        "id": "m3772b9Pvxkb"
      },
      "execution_count": null,
      "outputs": []
    },
    {
      "cell_type": "code",
      "source": [
        "spark = (\n",
        "    SparkSession\n",
        "        .builder\n",
        "        .appName(\"programming\")\n",
        "        .master(\"local\")\n",
        "        .config(\"spark.jars.packages\", \"io.delta:delta-core_2.12:0.7.0\")\n",
        "        .config(\"spark.sql.extensions\", \"io.delta.sql.DeltaSparkSessionExtension\")\n",
        "        .config(\"spark.sql.catalog.spark_catalog\", \"org.apache.spark.sql.delta.catalog.DeltaCatalog\")\n",
        "        .config('spark.ui.port', '4050')\n",
        "        .getOrCreate()\n",
        ")"
      ],
      "metadata": {
        "id": "4PRLOjGjx3h7"
      },
      "execution_count": null,
      "outputs": []
    },
    {
      "cell_type": "code",
      "source": [
        "sc = spark.sparkContext\n",
        "mystring=[\"This is a very, very simple sentence.\"]\n",
        "rdd = sc.parallelize(mystring,3)\n",
        "rdd.getNumPartitions()\n",
        "words = rdd.flatMap(lambda x:x.split(\" \"))\n",
        "words.collect()\n",
        "wordpair = words.map(lambda x:(x.replace(\",\",\"\").replace(\".\",\"\"),1))\n",
        "wordpair.collect()\n",
        "wordcount = wordpair.reduceByKey(lambda x,y:x+y)\n",
        "wordcount.collect()"
      ],
      "metadata": {
        "colab": {
          "base_uri": "https://localhost:8080/"
        },
        "id": "-dZ81TpqfW4d",
        "outputId": "8b94944b-a82d-4ed3-c31a-ca3001d306da"
      },
      "execution_count": null,
      "outputs": [
        {
          "output_type": "execute_result",
          "data": {
            "text/plain": [
              "[('very', 2), ('is', 1), ('simple', 1), ('sentence', 1), ('This', 1), ('a', 1)]"
            ]
          },
          "metadata": {},
          "execution_count": 6
        }
      ]
    },
    {
      "cell_type": "code",
      "source": [
        "rdd2 = rdd.map(lambda x:(x,1)).reduce(lambda x,y:(x[0]+y[0],x[1]+y[1]))\n",
        "rdd2"
      ],
      "metadata": {
        "colab": {
          "base_uri": "https://localhost:8080/"
        },
        "id": "E97H5rxMffRd",
        "outputId": "ed4c0ce9-75e7-4bed-d377-aa754ec13937"
      },
      "execution_count": null,
      "outputs": [
        {
          "output_type": "execute_result",
          "data": {
            "text/plain": [
              "('This is a very, very simple sentence.', 1)"
            ]
          },
          "metadata": {},
          "execution_count": 7
        }
      ]
    },
    {
      "cell_type": "code",
      "source": [
        "# sc = spark.sparkContext\n",
        "# purchases_df = spark.read.option(\"multiline\",\"true\").json('./purchases.json')\n",
        "# purchases_df.show()"
      ],
      "metadata": {
        "id": "FwSHr-4U3bT6"
      },
      "execution_count": null,
      "outputs": []
    },
    {
      "cell_type": "code",
      "source": [
        ""
      ],
      "metadata": {
        "id": "8tbiS5wFYLw_"
      },
      "execution_count": null,
      "outputs": []
    }
  ]
}