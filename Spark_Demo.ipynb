{
  "nbformat": 4,
  "nbformat_minor": 0,
  "metadata": {
    "colab": {
      "provenance": [],
      "authorship_tag": "ABX9TyN2iVapOBb5ucf79IvtvzTx",
      "include_colab_link": true
    },
    "kernelspec": {
      "name": "python3",
      "display_name": "Python 3"
    },
    "language_info": {
      "name": "python"
    }
  },
  "cells": [
    {
      "cell_type": "markdown",
      "metadata": {
        "id": "view-in-github",
        "colab_type": "text"
      },
      "source": [
        "<a href=\"https://colab.research.google.com/github/Suryan5h/Apache-Spark/blob/main/Spark_Demo.ipynb\" target=\"_parent\"><img src=\"https://colab.research.google.com/assets/colab-badge.svg\" alt=\"Open In Colab\"/></a>"
      ]
    },
    {
      "cell_type": "markdown",
      "source": [
        "# SPARK SESSION"
      ],
      "metadata": {
        "id": "i11N24Md1455"
      }
    },
    {
      "cell_type": "code",
      "source": [
        "## Initializing PySpark"
      ],
      "metadata": {
        "id": "q3qDpxdH12N5"
      },
      "execution_count": 2,
      "outputs": []
    },
    {
      "cell_type": "code",
      "execution_count": 1,
      "metadata": {
        "colab": {
          "base_uri": "https://localhost:8080/"
        },
        "id": "-P9VsrzK1xfN",
        "outputId": "cc8e9e5c-bf64-462d-a2ab-0d72dfc11dbe"
      },
      "outputs": [
        {
          "output_type": "stream",
          "name": "stdout",
          "text": [
            "Spark Session Created!\n"
          ]
        }
      ],
      "source": [
        "from pyspark.sql import SparkSession\n",
        "\n",
        "# Create a Spark session\n",
        "spark = SparkSession.builder \\\n",
        "    .appName(\"PySpark Basics\") \\\n",
        "    .getOrCreate()\n",
        "\n",
        "print(\"Spark Session Created!\")"
      ]
    },
    {
      "cell_type": "code",
      "source": [
        "spark"
      ],
      "metadata": {
        "colab": {
          "base_uri": "https://localhost:8080/",
          "height": 222
        },
        "id": "y17k4KJe1yVd",
        "outputId": "288462e1-3d03-4897-cb4f-20529ffb1a19"
      },
      "execution_count": 5,
      "outputs": [
        {
          "output_type": "execute_result",
          "data": {
            "text/plain": [
              "<pyspark.sql.session.SparkSession at 0x7fdb03e78be0>"
            ],
            "text/html": [
              "\n",
              "            <div>\n",
              "                <p><b>SparkSession - in-memory</b></p>\n",
              "                \n",
              "        <div>\n",
              "            <p><b>SparkContext</b></p>\n",
              "\n",
              "            <p><a href=\"http://ba80ab0abb8a:4040\">Spark UI</a></p>\n",
              "\n",
              "            <dl>\n",
              "              <dt>Version</dt>\n",
              "                <dd><code>v3.5.3</code></dd>\n",
              "              <dt>Master</dt>\n",
              "                <dd><code>local[*]</code></dd>\n",
              "              <dt>AppName</dt>\n",
              "                <dd><code>PySpark Basics</code></dd>\n",
              "            </dl>\n",
              "        </div>\n",
              "        \n",
              "            </div>\n",
              "        "
            ]
          },
          "metadata": {},
          "execution_count": 5
        }
      ]
    },
    {
      "cell_type": "code",
      "source": [
        "## Creating a DataFrame\n",
        "# Create a sample data list\n",
        "data = [(\"Alice\", 29), (\"Bob\", 35), (\"Cathy\", 22)]\n",
        "\n",
        "# Define column names\n",
        "columns = [\"Name\", \"Age\"]\n",
        "\n",
        "# Create a DataFrame\n",
        "df = spark.createDataFrame(data, schema=columns)\n",
        "\n",
        "# Show the DataFrame\n",
        "df.show()"
      ],
      "metadata": {
        "colab": {
          "base_uri": "https://localhost:8080/"
        },
        "id": "BjNYYVek191h",
        "outputId": "c2d02553-4b13-47fe-a576-36ba860de035"
      },
      "execution_count": 6,
      "outputs": [
        {
          "output_type": "stream",
          "name": "stdout",
          "text": [
            "+-----+---+\n",
            "| Name|Age|\n",
            "+-----+---+\n",
            "|Alice| 29|\n",
            "|  Bob| 35|\n",
            "|Cathy| 22|\n",
            "+-----+---+\n",
            "\n"
          ]
        }
      ]
    },
    {
      "cell_type": "code",
      "source": [
        "## Performing Transformations (Map and Filter)\n",
        "# Create an RDD from a list\n",
        "rdd = spark.sparkContext.parallelize([1, 2, 3, 4, 5])\n",
        "\n",
        "# Apply a map transformation to square each number\n",
        "mapped_rdd = rdd.map(lambda x: x ** 2)\n",
        "\n",
        "# Filter numbers greater than 10\n",
        "filtered_rdd = mapped_rdd.filter(lambda x: x > 10)\n",
        "\n",
        "# Collect and print the results\n",
        "print(filtered_rdd.collect())"
      ],
      "metadata": {
        "colab": {
          "base_uri": "https://localhost:8080/"
        },
        "id": "uKcKKa2G2JsR",
        "outputId": "11bf3836-9ce2-4db1-8777-849bcc857203"
      },
      "execution_count": 7,
      "outputs": [
        {
          "output_type": "stream",
          "name": "stdout",
          "text": [
            "[16, 25]\n"
          ]
        }
      ]
    },
    {
      "cell_type": "code",
      "source": [
        "## Word Count Code\n",
        "# Create an RDD from a list of sentences\n",
        "sentences = [\"hello world\", \"hello PySpark\", \"hello everyone\"]\n",
        "rdd = spark.sparkContext.parallelize(sentences)\n",
        "\n",
        "# FlatMap: Split sentences into words\n",
        "words_rdd = rdd.flatMap(lambda sentence: sentence.split(\" \"))\n",
        "\n",
        "# Map: Assign a count of 1 to each word\n",
        "word_pairs_rdd = words_rdd.map(lambda word: (word, 1))\n",
        "\n",
        "# ReduceByKey: Sum counts for each word\n",
        "word_count_rdd = word_pairs_rdd.reduceByKey(lambda a, b: a + b)\n",
        "\n",
        "# Collect and display results\n",
        "print(\"Word Counts:\", word_count_rdd.collect())"
      ],
      "metadata": {
        "colab": {
          "base_uri": "https://localhost:8080/"
        },
        "id": "PSx5c9bw2jPp",
        "outputId": "7ee1fd61-1013-4003-d057-ec477e3085e6"
      },
      "execution_count": 8,
      "outputs": [
        {
          "output_type": "stream",
          "name": "stdout",
          "text": [
            "Word Counts: [('world', 1), ('PySpark', 1), ('hello', 3), ('everyone', 1)]\n"
          ]
        }
      ]
    },
    {
      "cell_type": "code",
      "source": [
        "words_rdd.collect()"
      ],
      "metadata": {
        "colab": {
          "base_uri": "https://localhost:8080/"
        },
        "id": "1raUEvM-2sMJ",
        "outputId": "7401c5d6-d079-42c8-e994-130036d2af5f"
      },
      "execution_count": 10,
      "outputs": [
        {
          "output_type": "execute_result",
          "data": {
            "text/plain": [
              "['hello', 'world', 'hello', 'PySpark', 'hello', 'everyone']"
            ]
          },
          "metadata": {},
          "execution_count": 10
        }
      ]
    },
    {
      "cell_type": "code",
      "source": [
        "word_pairs_rdd.collect()"
      ],
      "metadata": {
        "colab": {
          "base_uri": "https://localhost:8080/"
        },
        "id": "T3NDOT0o28B5",
        "outputId": "d9770731-3309-4cf2-80cd-835b683d6e0b"
      },
      "execution_count": 11,
      "outputs": [
        {
          "output_type": "execute_result",
          "data": {
            "text/plain": [
              "[('hello', 1),\n",
              " ('world', 1),\n",
              " ('hello', 1),\n",
              " ('PySpark', 1),\n",
              " ('hello', 1),\n",
              " ('everyone', 1)]"
            ]
          },
          "metadata": {},
          "execution_count": 11
        }
      ]
    },
    {
      "cell_type": "code",
      "source": [
        "word_count_rdd.collect()"
      ],
      "metadata": {
        "colab": {
          "base_uri": "https://localhost:8080/"
        },
        "id": "BV5zi5en3ASf",
        "outputId": "f7698bed-7918-4bff-83b3-ef852206c1c7"
      },
      "execution_count": 12,
      "outputs": [
        {
          "output_type": "execute_result",
          "data": {
            "text/plain": [
              "[('world', 1), ('PySpark', 1), ('hello', 3), ('everyone', 1)]"
            ]
          },
          "metadata": {},
          "execution_count": 12
        }
      ]
    },
    {
      "cell_type": "code",
      "source": [
        "## Partitioning and Repartitioning\n",
        "# Create an RDD and check its number of partitions\n",
        "rdd = spark.sparkContext.parallelize(range(1, 101), numSlices=4)\n",
        "print(\"Initial Partitions:\", rdd.getNumPartitions())\n",
        "\n",
        "# Repartition to increase partitions\n",
        "repartitioned_rdd = rdd.repartition(6)\n",
        "print(\"After Repartition:\", repartitioned_rdd.getNumPartitions())"
      ],
      "metadata": {
        "colab": {
          "base_uri": "https://localhost:8080/"
        },
        "id": "N_0MQS673EOp",
        "outputId": "4b71845b-bae4-4bd8-8624-180c65d70cdd"
      },
      "execution_count": 13,
      "outputs": [
        {
          "output_type": "stream",
          "name": "stdout",
          "text": [
            "Initial Partitions: 4\n",
            "After Repartition: 6\n"
          ]
        }
      ]
    },
    {
      "cell_type": "code",
      "source": [
        "## Using SQL Queries on DataFrames\n",
        "# Sample data\n",
        "data = [(\"Alice\", 29), (\"Bob\", 35), (\"Cathy\", 22)]\n",
        "columns = [\"Name\", \"Age\"]\n",
        "\n",
        "# Create DataFrame\n",
        "df = spark.createDataFrame(data, columns)\n",
        "\n",
        "# Register the DataFrame as a SQL temporary view\n",
        "df.createOrReplaceTempView(\"people\")\n",
        "\n",
        "# Execute SQL query\n",
        "result = spark.sql(\"SELECT Name, Age FROM people WHERE Age > 30\")\n",
        "\n",
        "# Show the result\n",
        "result.show()"
      ],
      "metadata": {
        "colab": {
          "base_uri": "https://localhost:8080/"
        },
        "id": "TqLJaoj93SzI",
        "outputId": "e322a8c3-20fd-4e57-d1e0-24e3d04a10d8"
      },
      "execution_count": 14,
      "outputs": [
        {
          "output_type": "stream",
          "name": "stdout",
          "text": [
            "+----+---+\n",
            "|Name|Age|\n",
            "+----+---+\n",
            "| Bob| 35|\n",
            "+----+---+\n",
            "\n"
          ]
        }
      ]
    },
    {
      "cell_type": "code",
      "source": [],
      "metadata": {
        "id": "dl7nIGQz3veg"
      },
      "execution_count": null,
      "outputs": []
    }
  ]
}